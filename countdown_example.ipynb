{
 "cells": [
  {
   "cell_type": "code",
   "execution_count": 4,
   "metadata": {},
   "outputs": [],
   "source": [
    "from countdown import \\\n",
    "    generate_letters_automatic, generate_letters, get_longest_word, check_word"
   ]
  },
  {
   "cell_type": "code",
   "execution_count": 2,
   "metadata": {},
   "outputs": [
    {
     "data": {
      "text/plain": [
       "['h', 'x', 'n', 'b', 't', 'l', 'u', 'o', 'e', 'o']"
      ]
     },
     "execution_count": 2,
     "metadata": {},
     "output_type": "execute_result"
    }
   ],
   "source": [
    "# Can create have a fixed length of constances and vowel\n",
    "letters = generate_letters_automatic(6,4)\n",
    "letters"
   ]
  },
  {
   "cell_type": "code",
   "execution_count": 3,
   "metadata": {},
   "outputs": [
    {
     "name": "stdout",
     "output_type": "stream",
     "text": [
      "Amount of letters to pick: 10\n",
      "Consonant or Vowel?\n",
      "Please enter consonant or vowel: consonant \n",
      "Letters so far: ['n']\n",
      "Consonant or Vowel?\n",
      "Please enter consonant or vowel: consonant \n",
      "Letters so far: ['n', 'y']\n",
      "Consonant or Vowel?\n",
      "Please enter consonant or vowel: consonant \n",
      "Letters so far: ['n', 'y', 'm']\n",
      "Consonant or Vowel?\n",
      "Please enter consonant or vowel: consonant \n",
      "Letters so far: ['n', 'y', 'm', 't']\n",
      "Consonant or Vowel?\n",
      "Please enter consonant or vowel: consonant \n",
      "Letters so far: ['n', 'y', 'm', 't', 'l']\n",
      "Consonant or Vowel?\n",
      "Please enter consonant or vowel: consonant \n",
      "Letters so far: ['n', 'y', 'm', 't', 'l', 'q']\n",
      "Consonant or Vowel?\n",
      "Please enter consonant or vowel: Vowel\n",
      "Letters so far: ['n', 'y', 'm', 't', 'l', 'q', 'u']\n",
      "Consonant or Vowel?\n",
      "Please enter consonant or vowel: Vowel\n",
      "Letters so far: ['n', 'y', 'm', 't', 'l', 'q', 'u', 'e']\n",
      "Consonant or Vowel?\n",
      "Please enter consonant or vowel: Vowel\n",
      "Letters so far: ['n', 'y', 'm', 't', 'l', 'q', 'u', 'e', 'e']\n",
      "Consonant or Vowel?\n",
      "Please enter consonant or vowel: Vowel\n",
      "Letters so far: ['n', 'y', 'm', 't', 'l', 'q', 'u', 'e', 'e', 'e']\n"
     ]
    }
   ],
   "source": [
    "# Or can be manually choosen\n",
    "letters = generate_letters()"
   ]
  },
  {
   "cell_type": "code",
   "execution_count": 3,
   "metadata": {},
   "outputs": [
    {
     "name": "stderr",
     "output_type": "stream",
     "text": [
      "100%|███████████████████████████████████████████████████████████████████████████████████████████████████████████████████████████████████████████████████████████████████████████████████████████| 236736/236736 [00:00<00:00, 812987.22it/s]"
     ]
    },
    {
     "name": "stdout",
     "output_type": "stream",
     "text": [
      "The words which contains h, x, n, b, t, l, u, o, e, o are behoot, belout, belton, hotbox, looten, obolet, outbox, toxone, unbelt, unbolt, unboot, with 6 points.\n"
     ]
    },
    {
     "name": "stderr",
     "output_type": "stream",
     "text": [
      "\n"
     ]
    }
   ],
   "source": [
    "# Return the words with the best score\n",
    "max_word, max_count = get_longest_word(letters)"
   ]
  },
  {
   "cell_type": "code",
   "execution_count": 13,
   "metadata": {},
   "outputs": [
    {
     "name": "stdout",
     "output_type": "stream",
     "text": [
      "All of obolet's letters are in the choosen letters.\n",
      "Obolet has a score of 6.\n"
     ]
    },
    {
     "data": {
      "text/plain": [
       "True"
      ]
     },
     "execution_count": 13,
     "metadata": {},
     "output_type": "execute_result"
    }
   ],
   "source": [
    "check_word(max_word[0], letters)"
   ]
  },
  {
   "cell_type": "code",
   "execution_count": null,
   "metadata": {},
   "outputs": [],
   "source": []
  }
 ],
 "metadata": {
  "kernelspec": {
   "display_name": "Python 3.8.5 64-bit ('masters_ai_ul')",
   "language": "python",
   "name": "python38564bitmastersaiulc7836012afae4587baba47159274ad93"
  },
  "language_info": {
   "codemirror_mode": {
    "name": "ipython",
    "version": 3
   },
   "file_extension": ".py",
   "mimetype": "text/x-python",
   "name": "python",
   "nbconvert_exporter": "python",
   "pygments_lexer": "ipython3",
   "version": "3.8.5"
  }
 },
 "nbformat": 4,
 "nbformat_minor": 4
}
